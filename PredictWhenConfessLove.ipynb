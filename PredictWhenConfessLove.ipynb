{
 "cells": [
  {
   "cell_type": "code",
   "execution_count": 3,
   "metadata": {},
   "outputs": [
    {
     "name": "stdout",
     "output_type": "stream",
     "text": [
      "Kita temenan aja ya!\n"
     ]
    }
   ],
   "source": [
    "# import algoritma logistic regression pada scikit learn\n",
    "from sklearn.linear_model import LogisticRegression\n",
    "\n",
    "# membuat variable classifier dengan algoritma logistic regression\n",
    "clf = LogisticRegression()\n",
    "\n",
    "# properti yang dibutuhkan pada aplikasi ini mempunyai sebuah array dengan value sebagai berikut\n",
    "# index 0 : Jarak rumah dalam KM\n",
    "# index 1 : Level bau ketek (1 - 10)\n",
    "# index 2 : Jenis kendaraan denga properti 0 = angkot, 1 = motor, 2 = mobil\n",
    "# index 3 : Pengeluaran saat PDKT\n",
    "# index 4 : Jumlah ketemuan dalam seminggu [dalam puluh ribu]\n",
    "data = [[5, 1, 0, 5, 1], [35, 6, 2, 8, 4], [1, 4, 0, 11, 1], [23, 3, 1, 3, 3], [54, 1, 0, 80, 5], \n",
    "        [16, 3, 1, 6, 3], [7, 3, 2, 10, 2], [4, 7, 1, 12, 2], [10, 2, 1, 5, 2], [8, 2, 0, 40, 3], \n",
    "        [3, 5, 0, 7, 2], [18, 2, 1, 150, 3], [6, 4, 1, 2, 4], [23, 1, 2, 6, 1], [17, 1, 1, 20, 2]]\n",
    "\n",
    "# target berdasarkan data diatas adalah sebagai berikut\n",
    "# value 0 : diterima\n",
    "# value 1 : ditolak\n",
    "target = [0, 1, 0, 0, 1, 0, 1, 0, 0, 1, 1, 0, 0, 1, 0]\n",
    "\n",
    "# target value\n",
    "target_value = [\"Kita temenan aja ya!\", \"Aku mau kok jadi pacar kamu\"]\n",
    "\n",
    "# mentrain data berdasarkan properti diatas\n",
    "clf.fit(data, target)\n",
    "\n",
    "# membuat prediksi dari cowok kere\n",
    "prediction = clf.predict([[0, 0, 0, 0, 0]])\n",
    "\n",
    "# memperint dari prediksi\n",
    "print target_value[int(prediction)] \n",
    "\n",
    "# maka akan mempunyai hasil sebagai berikut\n",
    "# Kita temenan aja ya!"
   ]
  }
 ],
 "metadata": {
  "kernelspec": {
   "display_name": "Python [default]",
   "language": "python",
   "name": "python2"
  },
  "language_info": {
   "codemirror_mode": {
    "name": "ipython",
    "version": 2
   },
   "file_extension": ".py",
   "mimetype": "text/x-python",
   "name": "python",
   "nbconvert_exporter": "python",
   "pygments_lexer": "ipython2",
   "version": "2.7.10"
  }
 },
 "nbformat": 4,
 "nbformat_minor": 2
}
